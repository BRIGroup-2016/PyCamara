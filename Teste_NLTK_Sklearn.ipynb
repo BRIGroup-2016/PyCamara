{
 "cells": [
  {
   "cell_type": "code",
   "execution_count": 3,
   "metadata": {
    "collapsed": true
   },
   "outputs": [],
   "source": [
    "import nltk\n",
    "import sklearn"
   ]
  },
  {
   "cell_type": "code",
   "execution_count": 65,
   "metadata": {
    "collapsed": false
   },
   "outputs": [],
   "source": [
    "import unicodedata\n",
    "import re\n",
    "stemmer = nltk.stem.RSLPStemmer()\n",
    "stop = nltk.corpus.stopwords.words('portuguese')\n",
    "\n",
    "acceptable = re.compile('[^a-z ]')\n",
    "spaces = re.compile('[ ]+')\n",
    "\n",
    "def preprocessor(txt):\n",
    "    txt = txt.lower()\n",
    "    txt = unicodedata.normalize('NFD', txt)\n",
    "    txt = acceptable.sub(\"\", txt)\n",
    "    return txt\n",
    "\n",
    "stop = {preprocessor(stemmer.stem(word)) for word in stop}\n",
    "\n",
    "def analyzer(txt):\n",
    "    txt = preprocessor(txt)\n",
    "    tokens = spaces.split(txt)\n",
    "    return [ stemmer.stem(token) for token in  tokens if len(token) >= 2 and token not in stop]\n"
   ]
  },
  {
   "cell_type": "code",
   "execution_count": 98,
   "metadata": {
    "collapsed": false
   },
   "outputs": [],
   "source": [
    "vetorizador = sklearn.feature_extraction.text.TfidfVectorizer(analyzer=analyzer, max_features=None, norm='l2')"
   ]
  },
  {
   "cell_type": "code",
   "execution_count": 96,
   "metadata": {
    "collapsed": false
   },
   "outputs": [],
   "source": [
    "import os\n",
    "import  collections\n",
    "\n",
    "textos_discursos = list()\n",
    "discursos_metadado = dict()\n",
    "\n",
    "diretorio = 'politicos/'\n",
    "\n",
    "for file_name in os.listdir(diretorio):\n",
    "    aux = file_name[:-4].split('_')\n",
    "    estado = aux[0]\n",
    "    partido = aux[1]\n",
    "    nome = \" \".join(aux[2:])\n",
    "    \n",
    "    if estado is None or partido is None:\n",
    "        continue\n",
    "        \n",
    "    discursos = None\n",
    "    with open(diretorio + file_name) as arq:\n",
    "        linhas = arq.readlines()\n",
    "        if len(linhas)//2 > 10:\n",
    "            discursos = processa_discursos(linhas)\n",
    "    \n",
    "    if discursos is None:\n",
    "        continue\n",
    "        \n",
    "    datas = list()\n",
    "    for data, discurso in discursos:\n",
    "        id_discurso = len(textos_discursos)\n",
    "        textos_discursos.append(discurso)\n",
    "        datas += [(data, id_discurso)]\n",
    "        \n",
    "    discursos_metadado[nome] = { 'partido': partido, 'estado': estado, 'datas': datas}"
   ]
  },
  {
   "cell_type": "code",
   "execution_count": 89,
   "metadata": {
    "collapsed": true
   },
   "outputs": [],
   "source": [
    "def filtro_fala(fala):\n",
    "    if fala is not None and len(fala) > 10:\n",
    "        return True\n",
    "    return False"
   ]
  },
  {
   "cell_type": "code",
   "execution_count": null,
   "metadata": {
    "collapsed": false
   },
   "outputs": [],
   "source": [
    "def processa_discursos(linhas):\n",
    "    i = 0\n",
    "    discursos = list()\n",
    "    data_corrente = None\n",
    "    for linha in linhas:\n",
    "        if i % 2 == 0:\n",
    "            data_corrente = linha.strip('\\n').strip(':')\n",
    "        else:\n",
    "            if filtro_fala(linha):\n",
    "                discursos += [(data_corrente, linha)]\n",
    "        i += 1\n",
    "    return discursos\n"
   ]
  },
  {
   "cell_type": "code",
   "execution_count": 99,
   "metadata": {
    "collapsed": true
   },
   "outputs": [],
   "source": [
    "vetor_discursos = vetorizador.fit_transform(textos_discursos)"
   ]
  },
  {
   "cell_type": "code",
   "execution_count": 213,
   "metadata": {
    "collapsed": false
   },
   "outputs": [],
   "source": [
    "import numpy as np\n",
    "from scipy.spatial.distance import cosine\n",
    "import datetime\n",
    "def analise_coerencia(nome_deputado, janela = 5):\n",
    "    dados_deputado = discursos_metadado[nome_deputado]\n",
    "    ids = list()\n",
    "    datas = list()\n",
    "    similaridades = list()\n",
    "    \n",
    "    sorted(dados_deputado['datas'], key= lambda elem: datetime.datetime.strptime(elem[0], \"%d/%m/%Y %H:%M:%S\") )\n",
    "    \n",
    "    for data, id_discurso in dados_deputado['datas']:\n",
    "        ids += [id_discurso]\n",
    "        datas += [data]\n",
    "        \n",
    "    vetores_analise = vetor_discursos[ids, :]\n",
    "    for i in range(janela, len(ids)):\n",
    "        contexto = vetores_analise[i-janela:i, :].mean(axis=0)\n",
    "        atual = vetores_analise[i, :].toarray()\n",
    "        \n",
    "        similaridade = cosine(contexto, atual)\n",
    "        similaridades += [similaridade]\n",
    "        \n",
    "    return datas[janela:], similaridades\n"
   ]
  },
  {
   "cell_type": "code",
   "execution_count": 214,
   "metadata": {
    "collapsed": false
   },
   "outputs": [],
   "source": [
    "def coerencia_highcharts(deputado, janela=30):\n",
    "    datas, similaridades = analise_coerencia(deputado, janela)\n",
    "    modelo = '''$(function () {\n",
    "        $('#container').highcharts({\n",
    "            title: {\n",
    "                text: 'Coerência do Deputado (Janela = %s discursos)',\n",
    "                x: -20 //center\n",
    "            },\n",
    "            xAxis: {\n",
    "                categories: [%s]\n",
    "            },\n",
    "            yAxis: {\n",
    "                title: {\n",
    "                    text: 'Similaridade do Cosseno'\n",
    "                },\n",
    "                plotLines: [{\n",
    "                    value: 0,\n",
    "                    width: 1,\n",
    "                    color: '#808080'\n",
    "                }]\n",
    "            },\n",
    "            legend: {\n",
    "                layout: 'vertical',\n",
    "                align: 'right',\n",
    "                verticalAlign: 'middle',\n",
    "                borderWidth: 0\n",
    "            },\n",
    "            series: [{\n",
    "                name: '%s',\n",
    "                data: [%s]\n",
    "            }]\n",
    "        });\n",
    "    });'''\n",
    "    resultado = modelo % (janela, ', '.join([\"'\"+ d + \"'\" for d in datas]), deputado, ', '.join([ str(s) for s in similaridades]))\n",
    "    return resultado"
   ]
  },
  {
   "cell_type": "code",
   "execution_count": 224,
   "metadata": {
    "collapsed": false
   },
   "outputs": [],
   "source": [
    "lista = [ datetime.datetime.strptime(i[0], \"%d/%m/%Y %H:%M:%S\") for i in discursos_metadado['CARLOS MANATO']['datas']]"
   ]
  },
  {
   "cell_type": "code",
   "execution_count": 228,
   "metadata": {
    "collapsed": false
   },
   "outputs": [
    {
     "name": "stdout",
     "output_type": "stream",
     "text": [
      "$(function () {\n",
      "        $('#container').highcharts({\n",
      "            title: {\n",
      "                text: 'Coerência do Deputado (Janela = 30 discursos)',\n",
      "                x: -20 //center\n",
      "            },\n",
      "            xAxis: {\n",
      "                categories: ['23/9/2015 16:58:00', '23/9/2015 16:58:00', '22/9/2015 17:36:00', '22/9/2015 17:36:00', '22/9/2015 17:36:00', '16/9/2015 16:54:00', '10/9/2015 12:00:00', '10/9/2015 12:00:00', '10/9/2015 12:00:00', '9/9/2015 17:58:00', '9/9/2015 17:58:00', '9/9/2015 17:58:00', '9/9/2015 17:58:00', '9/9/2015 17:58:00', '9/9/2015 16:10:00', '2/9/2015 20:02:00', '26/8/2015 20:14:00', '26/8/2015 20:14:00', '26/8/2015 20:14:00', '26/8/2015 17:22:00', '26/8/2015 17:22:00', '26/8/2015 17:22:00', '26/8/2015 17:22:00', '19/8/2015 19:24:00', '19/8/2015 19:24:00', '18/8/2015 20:00:00', '18/8/2015 20:00:00', '11/8/2015 18:50:00', '11/8/2015 17:46:00', '11/8/2015 17:46:00', '6/8/2015 01:18:00', '16/7/2015 09:30:00', '14/7/2015 21:04:00', '14/7/2015 21:04:00', '14/7/2015 21:04:00', '14/7/2015 21:04:00', '14/7/2015 15:54:00', '14/7/2015 15:54:00', '14/7/2015 15:54:00', '14/7/2015 15:54:00', '14/7/2015 15:54:00', '14/7/2015 15:54:00', '14/7/2015 15:54:00', '14/7/2015 15:54:00', '7/7/2015 20:10:00', '7/7/2015 17:36:00', '1/7/2015 21:32:00', '1/7/2015 21:32:00', '30/6/2015 20:00:00', '30/6/2015 20:00:00', '30/6/2015 17:18:00', '25/6/2015 14:44:00', '25/6/2015 14:44:00', '25/6/2015 14:44:00', '24/6/2015 20:10:00', '24/6/2015 20:10:00', '23/6/2015 20:44:00', '23/6/2015 20:44:00', '23/6/2015 18:44:00', '17/6/2015 21:40:00', '17/6/2015 21:40:00', '16/6/2015 17:22:00', '16/6/2015 17:22:00', '16/6/2015 17:22:00', '16/6/2015 17:22:00', '16/6/2015 17:22:00', '10/6/2015 22:08:00', '10/6/2015 18:10:00', '10/6/2015 18:10:00', '10/6/2015 18:10:00', '10/6/2015 18:10:00', '27/5/2015 22:10:00', '26/5/2015 21:02:00', '26/5/2015 21:02:00', '14/5/2015 14:22:00', '14/5/2015 14:22:00', '14/5/2015 14:22:00', '13/5/2015 18:12:00', '13/5/2015 18:12:00', '13/5/2015 18:12:00', '13/5/2015 16:20:00', '5/5/2015 20:04:00', '27/4/2015 19:26:00', '27/4/2015 19:26:00', '22/4/2015 20:10:00', '22/4/2015 20:10:00', '8/4/2015 20:02:00', '8/4/2015 20:02:00', '8/4/2015 16:48:00', '7/4/2015 20:14:00', '7/4/2015 20:14:00', '30/3/2015 18:46:00', '30/3/2015 18:46:00', '30/3/2015 18:46:00', '24/3/2015 17:18:00', '24/3/2015 17:18:00', '19/3/2015 16:12:00', '19/3/2015 16:12:00', '18/3/2015 20:02:00', '17/3/2015 17:22:00', '5/3/2015 16:28:00', '4/3/2015 19:06:00', '4/3/2015 19:06:00', '25/2/2015 19:00:00', '25/2/2015 19:00:00', '25/2/2015 16:54:00', '10/2/2015 20:04:00', '10/2/2015 16:56:00', '10/2/2015 16:56:00', '27/4/2016 20:58:00', '27/4/2016 20:58:00', '27/4/2016 20:58:00', '27/4/2016 20:58:00', '27/4/2016 20:58:00', '27/4/2016 20:58:00', '18/4/2016 15:15:00', '17/4/2016 14:04:00', '16/4/2016 19:00:00', '16/4/2016 05:04:00', '15/4/2016 19:04:00', '11/4/2016 21:48:00', '4/4/2016 20:06:00', '4/4/2016 20:06:00', '4/4/2016 20:06:00', '30/3/2016 19:32:00', '28/3/2016 19:38:00', '24/2/2016 14:06:00', '18/2/2016 12:28:00', '3/2/2016 17:10:00', '3/2/2016 17:10:00', '15/12/2015 18:44:00', '2/12/2015 20:22:00', '2/12/2015 20:22:00']\n",
      "            },\n",
      "            yAxis: {\n",
      "                title: {\n",
      "                    text: 'Similaridade do Cosseno'\n",
      "                },\n",
      "                plotLines: [{\n",
      "                    value: 0,\n",
      "                    width: 1,\n",
      "                    color: '#808080'\n",
      "                }]\n",
      "            },\n",
      "            legend: {\n",
      "                layout: 'vertical',\n",
      "                align: 'right',\n",
      "                verticalAlign: 'middle',\n",
      "                borderWidth: 0\n",
      "            },\n",
      "            series: [{\n",
      "                name: 'JANDIRA FEGHALI',\n",
      "                data: [0.833494053598, 0.726589719376, 0.807665217235, 0.743301648268, 0.743923409212, 0.737526050019, 0.713980084044, 0.748989062131, 0.733979271402, 0.728925813565, 0.712982823273, 0.84728815989, 0.643760497252, 0.864970140836, 0.626931925245, 0.5320602563, 0.732890657797, 0.843312678781, 0.869058299341, 0.700957599461, 0.749633357285, 0.761123243585, 0.847734234589, 0.73841483761, 0.838248445896, 0.778624106068, 0.721766625375, 0.664497551081, 0.674143486595, 0.745410915107, 0.630382221713, 0.66645824671, 0.800866124832, 0.756360589421, 0.783944988059, 0.812710669205, 0.762058060415, 0.818350328696, 0.848108580028, 0.678952393257, 0.753361783896, 0.624572665012, 0.63516750822, 0.834082078392, 0.68130254166, 0.701696275365, 0.654470903696, 0.779428480391, 0.694913010663, 0.695486601718, 0.844204464291, 0.750774115797, 0.813040026597, 0.730508072401, 0.686335159344, 0.726408940018, 0.74393561211, 0.855882688072, 0.742331789436, 0.771907237646, 0.734832554918, 0.813572325881, 0.887905658748, 0.672364258718, 0.736693723811, 0.79967075258, 0.850934164222, 0.742985089021, 0.797613588902, 0.72626428111, 0.684130192882, 0.731113051408, 0.644669240161, 0.8159092515, 0.814571812249, 0.765498796851, 0.736101948499, 0.696395516492, 0.71059698034, 0.764763753849, 0.712556533114, 0.742250592454, 0.862806422452, 0.742222145385, 0.741430779143, 0.617275128294, 0.831422474577, 0.714015919946, 0.751945536328, 0.618164226493, 0.534240718718, 0.693793158496, 0.769325925732, 0.746720097904, 0.719505629746, 0.771068092548, 0.721394487012, 0.733835985015, 0.853441839932, 0.662801398964, 0.749396788422, 0.637143409795, 0.746911132621, 0.755774311111, 0.707784146848, 0.802866008395, 0.773781643082, 0.801936614884, 0.69126446596, 0.691029223495, 0.811351668858, 0.803368958399, 0.74411784755, 0.672538917326, 0.736809555196, 0.636620736355, 0.812100755917, 0.591546068251, 0.604006497419, 0.745339382553, 0.575118529164, 0.710586563178, 0.634271821131, 0.781273345176, 0.761284065593, 0.761393247719, 0.7239125196, 0.773095552355, 0.651632555277, 0.578086869742, 0.624180458077, 0.645747915713, 0.744515901389]\n",
      "            }]\n",
      "        });\n",
      "    });\n"
     ]
    }
   ],
   "source": [
    "print(coerencia_highcharts('JANDIRA FEGHALI'))"
   ]
  },
  {
   "cell_type": "code",
   "execution_count": null,
   "metadata": {
    "collapsed": true
   },
   "outputs": [],
   "source": []
  }
 ],
 "metadata": {
  "kernelspec": {
   "display_name": "Python 3",
   "language": "python",
   "name": "python3"
  },
  "language_info": {
   "codemirror_mode": {
    "name": "ipython",
    "version": 3
   },
   "file_extension": ".py",
   "mimetype": "text/x-python",
   "name": "python",
   "nbconvert_exporter": "python",
   "pygments_lexer": "ipython3",
   "version": "3.5.1"
  }
 },
 "nbformat": 4,
 "nbformat_minor": 0
}
